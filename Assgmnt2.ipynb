{
 "cells": [
  {
   "cell_type": "code",
   "execution_count": 1,
   "id": "63892628-34df-4579-91f5-54acdbccae8e",
   "metadata": {},
   "outputs": [
    {
     "name": "stdin",
     "output_type": "stream",
     "text": [
      "enter your age:  54\n"
     ]
    },
    {
     "name": "stdout",
     "output_type": "stream",
     "text": [
      "adult\n"
     ]
    }
   ],
   "source": [
    "## Answer 01\n",
    "age = int(input('enter your age: '))\n",
    "if age>= 0 and age<= 12:\n",
    "    print('child')\n",
    "elif age>=13 and age<=19:\n",
    "    print('teenager')\n",
    "elif age>=20 and age<=64:\n",
    "    print('adult')\n",
    "else:\n",
    "    print('senior')"
   ]
  },
  {
   "cell_type": "code",
   "execution_count": 2,
   "id": "9bc9b354-03ab-4276-b088-eeca6b369345",
   "metadata": {},
   "outputs": [
    {
     "name": "stdin",
     "output_type": "stream",
     "text": [
      "enter member ship status(premium/regular):  premium\n",
      "enter the purhase amount:  1400\n"
     ]
    },
    {
     "name": "stdout",
     "output_type": "stream",
     "text": [
      "eligible for discount\n"
     ]
    }
   ],
   "source": [
    "## Answer 2\n",
    "membership_status = input('enter member ship status(premium/regular): ')\n",
    "purchase_amount = int(input('enter the purhase amount: '))\n",
    "if (membership_status == 'premium' and purchase_amount>= 1000) or (membership_status == 'regular' and purchase_amount>=2000):\n",
    "    print('eligible for discount')\n",
    "else:\n",
    "    print('not eligible for discount')"
   ]
  },
  {
   "cell_type": "code",
   "execution_count": 3,
   "id": "8399e573-d210-4981-83a3-ba19e853f343",
   "metadata": {},
   "outputs": [
    {
     "name": "stdin",
     "output_type": "stream",
     "text": [
      "enter age :  17\n",
      "citizen/Non citizen:  citizen\n"
     ]
    },
    {
     "name": "stdout",
     "output_type": "stream",
     "text": [
      "eligible to vote\n"
     ]
    }
   ],
   "source": [
    "## Answer 3\n",
    "age =  int(input('enter age : '))\n",
    "citizenship_status = input('citizen/Non citizen: ')\n",
    "if (age >= 18  and citizenship_status == 'citizen') or (age >= 16 and citizenship_status == 'citizen'):\n",
    "    print('eligible to vote')\n",
    "else:\n",
    "    print('not eligible to vote')"
   ]
  },
  {
   "cell_type": "code",
   "execution_count": 4,
   "id": "bddca843-5d7b-4d06-9197-653e56253382",
   "metadata": {},
   "outputs": [
    {
     "name": "stdin",
     "output_type": "stream",
     "text": [
      "enter rating(excellent/good/satisfactory):  excellent\n",
      "enter years:  7\n"
     ]
    },
    {
     "name": "stdout",
     "output_type": "stream",
     "text": [
      "eligible for bonus\n"
     ]
    }
   ],
   "source": [
    "## Answer 4\n",
    "employees_performance = input('enter rating(excellent/good/satisfactory): ')\n",
    "years_of_service =(int (input('enter years: ')))\n",
    "if (employees_performance == 'excellent'  and years_of_service  >= 5) or \\\n",
    "(employees_performance == 'good' and years_of_service  >= 10) or \\\n",
    "(employees_performance == 'satisfactory' and years_of_service  >=  15):\n",
    "    print ('eligible for bonus')                 \n",
    "else:\n",
    "     print('not eligible for bonus')"
   ]
  },
  {
   "cell_type": "code",
   "execution_count": 5,
   "id": "71a9f6d0-869a-4e1d-be00-1c3642ec594e",
   "metadata": {},
   "outputs": [
    {
     "name": "stdout",
     "output_type": "stream",
     "text": [
      "Modified text: I'm_learning_Python_programming\n",
      "Number of underscores: 3\n",
      "Position of first underscore: 3\n"
     ]
    }
   ],
   "source": [
    "## Answer 5\n",
    "text = \"I'm learning Python programming\"\n",
    "\n",
    "# Replace spaces with underscores\n",
    "modified_text = text.replace(\" \", \"_\")\n",
    "\n",
    "# Count how many underscores are in the modified text\n",
    "underscore_count = modified_text.count(\"_\")\n",
    "\n",
    "# Find the position of the first underscore\n",
    "first_underscore_position = modified_text.find(\"_\")\n",
    "\n",
    "# Print the results\n",
    "print(\"Modified text:\", modified_text)\n",
    "print(\"Number of underscores:\", underscore_count)\n",
    "print(\"Position of first underscore:\", first_underscore_position)"
   ]
  },
  {
   "cell_type": "code",
   "execution_count": 6,
   "id": "5149a28a-1ba3-40c4-949e-6b3743803a87",
   "metadata": {},
   "outputs": [
    {
     "name": "stdin",
     "output_type": "stream",
     "text": [
      "Enter a string:  7\n"
     ]
    },
    {
     "name": "stdout",
     "output_type": "stream",
     "text": [
      "All characters except the last 3: \n",
      "Every second character: 7\n",
      "String in reverse: 7\n"
     ]
    }
   ],
   "source": [
    "## Answer 6\n",
    "# Taking input string\n",
    "input_string = input(\"Enter a string: \")\n",
    "\n",
    "# 1. Print all characters of the string except the last 3\n",
    "print(\"All characters except the last 3:\", input_string[:-3])\n",
    "\n",
    "# 2. Print every second character of the string\n",
    "print(\"Every second character:\", input_string[::2])\n",
    "\n",
    "# 3. Print the string in reverse\n",
    "print(\"String in reverse:\", input_string[::-1])\n",
    "                   "
   ]
  },
  {
   "cell_type": "code",
   "execution_count": 7,
   "id": "01cef005-cba2-41fd-a8be-a919fc8ece72",
   "metadata": {},
   "outputs": [
    {
     "name": "stdout",
     "output_type": "stream",
     "text": [
      "Original text: Hello World, We are learning Python\n",
      "Reversed sentence: Python learning are We World, Hello\n"
     ]
    }
   ],
   "source": [
    "## Answer 7\n",
    "# Input sentence\n",
    "text = \"Hello World, We are learning Python\"\n",
    "\n",
    "# Split the sentence into words\n",
    "words = text.split()\n",
    "\n",
    "# Reverse the order of the words\n",
    "reversed_words = words[::-1]\n",
    "\n",
    "# Join the reversed words back into a sentence\n",
    "reversed_sentence = ' '.join(reversed_words)\n",
    "\n",
    "# Output the reversed sentence\n",
    "print(\"Original text:\", text)\n",
    "print(\"Reversed sentence:\", reversed_sentence)\n"
   ]
  },
  {
   "cell_type": "code",
   "execution_count": 8,
   "id": "25cb9ffb-c354-4c6b-a5bf-e20ba6273c86",
   "metadata": {},
   "outputs": [
    {
     "name": "stdout",
     "output_type": "stream",
     "text": [
      "Extracted number: 12345\n"
     ]
    }
   ],
   "source": [
    "## Answer 8\n",
    "# Input product code\n",
    "product_code = \"SKU-12345-XYZ\"\n",
    "\n",
    "# Remove \"SKU-\" and \"-XYZ\" to extract the number\n",
    "extracted_number = product_code.replace(\"SKU-\", \"\").replace(\"-XYZ\", \"\")\n",
    "\n",
    "# Output the extracted number\n",
    "print(\"Extracted number:\", extracted_number)\n"
   ]
  },
  {
   "cell_type": "code",
   "execution_count": 9,
   "id": "d67a8ca6-afa5-4338-8d60-ce3f7c46d7f9",
   "metadata": {},
   "outputs": [
    {
     "name": "stdin",
     "output_type": "stream",
     "text": [
      "Enter your password:  74Maak@9090\n"
     ]
    },
    {
     "name": "stdout",
     "output_type": "stream",
     "text": [
      "Password analysis:\n",
      "Contains uppercase characters: True\n",
      "Contains lowercase characters: True\n",
      "Contains spaces: False\n",
      "Contains special characters: True\n"
     ]
    }
   ],
   "source": [
    "## Answer 9\n",
    "import string\n",
    "\n",
    "# Input password\n",
    "password = input(\"Enter your password: \")\n",
    "\n",
    "# Check for uppercase characters\n",
    "has_uppercase = any(char.isupper() for char in password)\n",
    "\n",
    "# Check for lowercase characters\n",
    "has_lowercase = any(char.islower() for char in password)\n",
    "\n",
    "# Check for spaces\n",
    "has_spaces = any(char.isspace() for char in password)\n",
    "\n",
    "# Check for special characters\n",
    "special_characters = string.punctuation  # Includes common special characters\n",
    "has_special = any(char in special_characters for char in password)\n",
    "\n",
    "# Display the results\n",
    "print(\"Password analysis:\")\n",
    "print(\"Contains uppercase characters:\", has_uppercase)\n",
    "print(\"Contains lowercase characters:\", has_lowercase)\n",
    "print(\"Contains spaces:\", has_spaces)\n",
    "print(\"Contains special characters:\", has_special)\n"
   ]
  },
  {
   "cell_type": "code",
   "execution_count": 10,
   "id": "66b7c01a-d080-47f4-8c65-da01bd5d762f",
   "metadata": {},
   "outputs": [
    {
     "name": "stdout",
     "output_type": "stream",
     "text": [
      "Input sentence: I love programming in Python\n",
      "Longest word: programming\n"
     ]
    }
   ],
   "source": [
    "## Answer 10\n",
    "# Input sentence\n",
    "sentence = \"I love programming in Python\"\n",
    "\n",
    "# Split the sentence into words\n",
    "words = sentence.split()\n",
    "\n",
    "# Find the longest word\n",
    "longest_word = max(words, key=len)\n",
    "\n",
    "# Output the longest word\n",
    "print(\"Input sentence:\", sentence)\n",
    "print(\"Longest word:\", longest_word)"
   ]
  },
  {
   "cell_type": "code",
   "execution_count": null,
   "id": "8c367fac-93d0-476b-ad52-c8e57a6470be",
   "metadata": {},
   "outputs": [],
   "source": []
  },
  {
   "cell_type": "code",
   "execution_count": null,
   "id": "df854501-a531-445c-b0e7-f5b9bbee55cc",
   "metadata": {},
   "outputs": [],
   "source": []
  },
  {
   "cell_type": "code",
   "execution_count": null,
   "id": "cfde86d0-0b40-4bff-9e60-9f956670ad1e",
   "metadata": {},
   "outputs": [],
   "source": []
  },
  {
   "cell_type": "code",
   "execution_count": null,
   "id": "63fc429f-8035-4ef5-86a1-8635df35022a",
   "metadata": {},
   "outputs": [],
   "source": []
  },
  {
   "cell_type": "code",
   "execution_count": null,
   "id": "304f00d0-6fdf-4388-af8d-e527183ed45e",
   "metadata": {},
   "outputs": [],
   "source": []
  }
 ],
 "metadata": {
  "kernelspec": {
   "display_name": "Python 3 (ipykernel)",
   "language": "python",
   "name": "python3"
  },
  "language_info": {
   "codemirror_mode": {
    "name": "ipython",
    "version": 3
   },
   "file_extension": ".py",
   "mimetype": "text/x-python",
   "name": "python",
   "nbconvert_exporter": "python",
   "pygments_lexer": "ipython3",
   "version": "3.12.7"
  }
 },
 "nbformat": 4,
 "nbformat_minor": 5
}
