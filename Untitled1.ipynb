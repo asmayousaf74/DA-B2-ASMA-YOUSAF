{
 "cells": [
  {
   "cell_type": "markdown",
   "id": "954a5d49-8145-4d60-9ba5-462441d966f7",
   "metadata": {},
   "source": [
    "## LIST "
   ]
  },
  {
   "cell_type": "code",
   "execution_count": 1,
   "id": "9d0d6dd6-0b57-4e73-b3cf-62bf481e22d1",
   "metadata": {},
   "outputs": [],
   "source": [
    "salaries = ['20k','40k','50k','60k','35k','89k','40k']"
   ]
  },
  {
   "cell_type": "code",
   "execution_count": 2,
   "id": "e5836480-20d1-489c-9f14-ef838d3b7583",
   "metadata": {},
   "outputs": [],
   "source": [
    "## ANSWER 1"
   ]
  },
  {
   "cell_type": "code",
   "execution_count": 3,
   "id": "52b6dac9-ad2f-41dc-8280-be49c002f887",
   "metadata": {},
   "outputs": [
    {
     "data": {
      "text/plain": [
       "7"
      ]
     },
     "execution_count": 3,
     "metadata": {},
     "output_type": "execute_result"
    }
   ],
   "source": [
    "len(salaries)"
   ]
  },
  {
   "cell_type": "code",
   "execution_count": 4,
   "id": "d1613e5a-5977-4147-9322-0c3f72c62d6d",
   "metadata": {},
   "outputs": [],
   "source": [
    "## ANSWER 2"
   ]
  },
  {
   "cell_type": "code",
   "execution_count": 5,
   "id": "ea69e85c-646f-422f-9dc1-6fc1fce85113",
   "metadata": {},
   "outputs": [
    {
     "data": {
      "text/plain": [
       "'50k'"
      ]
     },
     "execution_count": 5,
     "metadata": {},
     "output_type": "execute_result"
    }
   ],
   "source": [
    "salaries[2]"
   ]
  },
  {
   "cell_type": "code",
   "execution_count": 6,
   "id": "e79bd39b-7339-4843-bfd0-8dbee2802f43",
   "metadata": {},
   "outputs": [],
   "source": [
    "## ANSWER 3"
   ]
  },
  {
   "cell_type": "code",
   "execution_count": 7,
   "id": "84915a09-3364-4c68-a555-4bcb8f753935",
   "metadata": {},
   "outputs": [
    {
     "data": {
      "text/plain": [
       "'40k'"
      ]
     },
     "execution_count": 7,
     "metadata": {},
     "output_type": "execute_result"
    }
   ],
   "source": [
    "salaries[-1]"
   ]
  },
  {
   "cell_type": "code",
   "execution_count": 8,
   "id": "cd9d72ff-4a74-4578-91ab-e40af41f93e1",
   "metadata": {},
   "outputs": [],
   "source": [
    "## ANSWER 4"
   ]
  },
  {
   "cell_type": "code",
   "execution_count": 9,
   "id": "9b53ca3e-d478-4922-af36-71a563b41b8c",
   "metadata": {},
   "outputs": [
    {
     "data": {
      "text/plain": [
       "['50k', '60k', '35k']"
      ]
     },
     "execution_count": 9,
     "metadata": {},
     "output_type": "execute_result"
    }
   ],
   "source": [
    "salaries[2:5]"
   ]
  },
  {
   "cell_type": "code",
   "execution_count": null,
   "id": "3e952321-c19b-4e9a-844b-1b0fac2ebcc1",
   "metadata": {},
   "outputs": [],
   "source": [
    "## Answer 5"
   ]
  },
  {
   "cell_type": "code",
   "execution_count": 10,
   "id": "3ec6693a-67f1-4ac5-be38-5b2f81974c90",
   "metadata": {},
   "outputs": [],
   "source": [
    "salaries.append('100k')"
   ]
  },
  {
   "cell_type": "code",
   "execution_count": 11,
   "id": "447d3daf-2350-48b6-9273-c9df0bc96462",
   "metadata": {},
   "outputs": [
    {
     "data": {
      "text/plain": [
       "['20k', '40k', '50k', '60k', '35k', '89k', '40k', '100k']"
      ]
     },
     "execution_count": 11,
     "metadata": {},
     "output_type": "execute_result"
    }
   ],
   "source": [
    "salaries"
   ]
  },
  {
   "cell_type": "code",
   "execution_count": 12,
   "id": "9ef7fbc7-e778-43dd-a091-74f8ebdc3110",
   "metadata": {},
   "outputs": [],
   "source": [
    "## Answer 6"
   ]
  },
  {
   "cell_type": "code",
   "execution_count": 13,
   "id": "99336240-accd-4724-85e1-e2e5fa51877b",
   "metadata": {},
   "outputs": [],
   "source": [
    "salaries += ['120k']"
   ]
  },
  {
   "cell_type": "code",
   "execution_count": 14,
   "id": "b2d46a33-a114-438a-8fff-61f81e38a087",
   "metadata": {},
   "outputs": [
    {
     "data": {
      "text/plain": [
       "['20k', '40k', '50k', '60k', '35k', '89k', '40k', '100k', '120k']"
      ]
     },
     "execution_count": 14,
     "metadata": {},
     "output_type": "execute_result"
    }
   ],
   "source": [
    "salaries"
   ]
  },
  {
   "cell_type": "code",
   "execution_count": 16,
   "id": "1f8c7dd5-a442-4c93-9c4d-76b4df908ead",
   "metadata": {},
   "outputs": [],
   "source": [
    "## Answer 7"
   ]
  },
  {
   "cell_type": "code",
   "execution_count": 15,
   "id": "314d4fc6-c138-4900-8220-92e0ddf71247",
   "metadata": {},
   "outputs": [
    {
     "data": {
      "text/plain": [
       "2"
      ]
     },
     "execution_count": 15,
     "metadata": {},
     "output_type": "execute_result"
    }
   ],
   "source": [
    "salaries.count('40k')"
   ]
  },
  {
   "cell_type": "code",
   "execution_count": 17,
   "id": "43a51f11-b554-41d0-8e2f-373b46838032",
   "metadata": {},
   "outputs": [],
   "source": [
    "## Answer 8"
   ]
  },
  {
   "cell_type": "code",
   "execution_count": 18,
   "id": "d73b5014-091d-4788-bed9-f1dc90070c6f",
   "metadata": {},
   "outputs": [],
   "source": [
    "salaries.insert(1,'45k')"
   ]
  },
  {
   "cell_type": "code",
   "execution_count": 19,
   "id": "1e6f59d5-f1d8-40c6-89db-0cf3b4c44404",
   "metadata": {},
   "outputs": [
    {
     "data": {
      "text/plain": [
       "['20k', '45k', '40k', '50k', '60k', '35k', '89k', '40k', '100k', '120k']"
      ]
     },
     "execution_count": 19,
     "metadata": {},
     "output_type": "execute_result"
    }
   ],
   "source": [
    "salaries"
   ]
  },
  {
   "cell_type": "code",
   "execution_count": 20,
   "id": "4d6e6696-3382-4a5c-94d0-c95f2a0d41e6",
   "metadata": {},
   "outputs": [],
   "source": [
    "## Answer 9"
   ]
  },
  {
   "cell_type": "code",
   "execution_count": 21,
   "id": "b243387f-72e4-46f0-871f-f73778856f01",
   "metadata": {},
   "outputs": [],
   "source": [
    "salaries.reverse()"
   ]
  },
  {
   "cell_type": "code",
   "execution_count": 22,
   "id": "639ee646-e917-4902-8744-f222818a161c",
   "metadata": {},
   "outputs": [
    {
     "data": {
      "text/plain": [
       "['120k', '100k', '40k', '89k', '35k', '60k', '50k', '40k', '45k', '20k']"
      ]
     },
     "execution_count": 22,
     "metadata": {},
     "output_type": "execute_result"
    }
   ],
   "source": [
    "salaries"
   ]
  },
  {
   "cell_type": "code",
   "execution_count": 23,
   "id": "b6792e18-757a-411f-b12e-4279d0d8cdbc",
   "metadata": {},
   "outputs": [],
   "source": [
    "## Answer 10"
   ]
  },
  {
   "cell_type": "code",
   "execution_count": null,
   "id": "a1463670-250c-4055-9e02-02de67ca2e0d",
   "metadata": {},
   "outputs": [],
   "source": [
    "salaries = salaries[::-1]"
   ]
  }
 ],
 "metadata": {
  "kernelspec": {
   "display_name": "Python 3 (ipykernel)",
   "language": "python",
   "name": "python3"
  },
  "language_info": {
   "codemirror_mode": {
    "name": "ipython",
    "version": 3
   },
   "file_extension": ".py",
   "mimetype": "text/x-python",
   "name": "python",
   "nbconvert_exporter": "python",
   "pygments_lexer": "ipython3",
   "version": "3.12.7"
  }
 },
 "nbformat": 4,
 "nbformat_minor": 5
}
