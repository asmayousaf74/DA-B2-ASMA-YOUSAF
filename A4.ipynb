{
 "cells": [
  {
   "cell_type": "markdown",
   "id": "6d27690a-5b49-42a4-a2eb-b3e11eb9019f",
   "metadata": {},
   "source": [
    "## Q1: Tuple Operations"
   ]
  },
  {
   "cell_type": "code",
   "execution_count": 1,
   "id": "f5960b8a-8831-42ea-88a7-da569a06f322",
   "metadata": {},
   "outputs": [
    {
     "name": "stdout",
     "output_type": "stream",
     "text": [
      "Elements of my_tuple:\n",
      "(1, 2, 3)\n",
      "[4, 5, 6]\n",
      "('apple', 'banana', 'cherry')\n",
      "[7, 8, 9]\n",
      "\n",
      "New tuple by concatenating first and last elements: (1, 2, 3, 7, 8, 9)\n"
     ]
    }
   ],
   "source": [
    "# Define the tuple\n",
    "my_tuple = ((1, 2, 3), [4, 5, 6], ('apple', 'banana', 'cherry'), [7, 8, 9])\n",
    "\n",
    "# Print all elements on a new line\n",
    "print(\"Elements of my_tuple:\")\n",
    "for element in my_tuple:\n",
    "    print(element)\n",
    "\n",
    "# Create a new tuple by concatenating the first and last elements\n",
    "new_tuple = my_tuple[0] + tuple(my_tuple[-1])\n",
    "print(\"\\nNew tuple by concatenating first and last elements:\", new_tuple)\n"
   ]
  },
  {
   "cell_type": "markdown",
   "id": "b5e7b9c2-521b-44a9-97b4-c5e942abe478",
   "metadata": {},
   "source": [
    "## Q2: Inventory Management"
   ]
  },
  {
   "cell_type": "code",
   "execution_count": 2,
   "id": "6404e0b3-1299-43da-b3cb-c6cdb3c580f0",
   "metadata": {},
   "outputs": [
    {
     "name": "stdout",
     "output_type": "stream",
     "text": [
      "\n",
      "Updated inventory after adding a book: {'The Great Gatsby': {'price': 10.99, 'quantity': 5}, 'Rich dad poor dad': {'price': 8.99, 'quantity': 8}, 'Harry Potter': {'price': 12.5, 'quantity': 2}, 'The Alchemist': {'price': 9.99, 'quantity': 10}}\n",
      "\n",
      "All book titles: dict_keys(['The Great Gatsby', 'Rich dad poor dad', 'Harry Potter', 'The Alchemist'])\n",
      "\n",
      "Inventory after removing out-of-stock books: {'The Great Gatsby': {'price': 10.99, 'quantity': 5}, 'Rich dad poor dad': {'price': 8.99, 'quantity': 8}, 'Harry Potter': {'price': 12.5, 'quantity': 2}, 'The Alchemist': {'price': 9.99, 'quantity': 10}}\n"
     ]
    }
   ],
   "source": [
    "# Define the inventory\n",
    "inventory = {\n",
    "    \"The Great Gatsby\": {\"price\": 10.99, \"quantity\": 5},\n",
    "    \"Rich dad poor dad\": {\"price\": 8.99, \"quantity\": 8},\n",
    "    \"Harry Potter\": {\"price\": 12.50, \"quantity\": 2},\n",
    "}\n",
    "\n",
    "# Add a new book\n",
    "inventory[\"The Alchemist\"] = {\"price\": 9.99, \"quantity\": 10}\n",
    "print(\"\\nUpdated inventory after adding a book:\", inventory)\n",
    "\n",
    "# Get all book titles\n",
    "print(\"\\nAll book titles:\", inventory.keys())\n",
    "\n",
    "# Remove a book if it's out of stock\n",
    "for book, details in list(inventory.items()):\n",
    "    if details[\"quantity\"] == 0:\n",
    "        del inventory[book]\n",
    "print(\"\\nInventory after removing out-of-stock books:\", inventory)\n"
   ]
  },
  {
   "cell_type": "markdown",
   "id": "831d9d2f-6872-474d-860e-ec48a7830e61",
   "metadata": {},
   "source": [
    "## Q3: Product Management"
   ]
  },
  {
   "cell_type": "code",
   "execution_count": 3,
   "id": "4accdac4-9cbd-444b-8792-e685b3b0fdcb",
   "metadata": {},
   "outputs": [
    {
     "name": "stdout",
     "output_type": "stream",
     "text": [
      "\n",
      "Updated stock for 'Shirt': 250\n",
      "\n",
      "Products after adding 'Smartphone': {101: {'name': 'Laptop', 'category': 'Electronics', 'price': 1200, 'stock': 50}, 102: {'name': 'Shirt', 'category': 'Apparel', 'price': 25, 'stock': 250}, 103: {'name': 'Coffee Maker', 'category': 'Home Appliances', 'price': 80, 'stock': 30}, 104: {'name': 'Smartphone', 'category': 'Electronics', 'price': 800, 'stock': 100}}\n"
     ]
    }
   ],
   "source": [
    "# Define the products dictionary\n",
    "products = {\n",
    "    101: {\"name\": \"Laptop\", \"category\": \"Electronics\", \"price\": 1200, \"stock\": 50},\n",
    "    102: {\"name\": \"Shirt\", \"category\": \"Apparel\", \"price\": 25, \"stock\": 200},\n",
    "    103: {\"name\": \"Coffee Maker\", \"category\": \"Home Appliances\", \"price\": 80, \"stock\": 30},\n",
    "}\n",
    "\n",
    "# Increase stock of \"Shirt\"\n",
    "products[102][\"stock\"] += 50\n",
    "print(\"\\nUpdated stock for 'Shirt':\", products[102][\"stock\"])\n",
    "\n",
    "# Add a new product\n",
    "products[104] = {\"name\": \"Smartphone\", \"category\": \"Electronics\", \"price\": 800, \"stock\": 100}\n",
    "print(\"\\nProducts after adding 'Smartphone':\", products)\n"
   ]
  },
  {
   "cell_type": "markdown",
   "id": "e0c917c6-5a9c-414f-9680-186ff711351d",
   "metadata": {},
   "source": [
    "## Q4: Remove Duplicates from List"
   ]
  },
  {
   "cell_type": "code",
   "execution_count": 4,
   "id": "6129ebaf-d2c9-41f6-83ab-a38b050ae844",
   "metadata": {},
   "outputs": [
    {
     "name": "stdout",
     "output_type": "stream",
     "text": [
      "\n",
      "Shopping list after removing duplicates: {'banana', 'orange', 'grape', 'apple'}\n"
     ]
    }
   ],
   "source": [
    "# Define the shopping list\n",
    "shopping_list = [\"apple\", \"banana\", \"apple\", \"orange\", \"banana\", \"grape\"]\n",
    "\n",
    "# Remove duplicates\n",
    "shopping_set = set(shopping_list)\n",
    "print(\"\\nShopping list after removing duplicates:\", shopping_set)\n"
   ]
  },
  {
   "cell_type": "markdown",
   "id": "2c53768c-9988-4a17-aa26-cac8a0c275b9",
   "metadata": {},
   "source": [
    "## Q5: Set Operations on Course Enrollment"
   ]
  },
  {
   "cell_type": "code",
   "execution_count": 5,
   "id": "b86f97ee-b861-4c8d-a262-148b7886e4b3",
   "metadata": {},
   "outputs": [
    {
     "name": "stdout",
     "output_type": "stream",
     "text": [
      "\n",
      "Students in Course A but not in Course B: {'John', 'Bob'}\n",
      "Students in only one of the two courses: {'John', 'Bob', 'Charlie', 'Eve'}\n"
     ]
    }
   ],
   "source": [
    "# Define course sets\n",
    "course_a = {\"John\", \"Alice\", \"Bob\", \"David\"}\n",
    "course_b = {\"Alice\", \"Eve\", \"Charlie\", \"David\"}\n",
    "\n",
    "# Difference: Students in Course A but not in Course B\n",
    "diff = course_a - course_b\n",
    "print(\"\\nStudents in Course A but not in Course B:\", diff)\n",
    "\n",
    "# Symmetric Difference: Students in only one of the two courses\n",
    "sym_diff = course_a ^ course_b\n",
    "print(\"Students in only one of the two courses:\", sym_diff)\n"
   ]
  },
  {
   "cell_type": "markdown",
   "id": "fb8a710c-a6a3-41bd-a9c5-b99ed58749bf",
   "metadata": {},
   "source": [
    "## Q6: Sum of Even Numbers from 1 to 50"
   ]
  },
  {
   "cell_type": "code",
   "execution_count": 6,
   "id": "80e6807a-5cc3-4672-9f4b-e9f9ec6890d0",
   "metadata": {},
   "outputs": [
    {
     "name": "stdout",
     "output_type": "stream",
     "text": [
      "\n",
      "Sum of all even numbers between 1 and 50: 650\n"
     ]
    }
   ],
   "source": [
    "# Calculate sum of even numbers\n",
    "sum_of_evens = 0\n",
    "for num in range(1, 51):\n",
    "    if num % 2 == 0:\n",
    "        sum_of_evens += num\n",
    "print(\"\\nSum of all even numbers between 1 and 50:\", sum_of_evens)\n"
   ]
  },
  {
   "cell_type": "markdown",
   "id": "47a8a7d8-6ff6-4661-acb1-916a984b7b17",
   "metadata": {},
   "source": [
    "## Q7: Multiplication Table"
   ]
  },
  {
   "cell_type": "code",
   "execution_count": 7,
   "id": "e457c4e8-e9de-43f5-97f9-45743a5489fa",
   "metadata": {},
   "outputs": [
    {
     "name": "stdin",
     "output_type": "stream",
     "text": [
      "\n",
      "Enter a number between 1 and 10:  6\n"
     ]
    },
    {
     "name": "stdout",
     "output_type": "stream",
     "text": [
      "\n",
      "Multiplication table for 6:\n",
      "6 x 1 = 6\n",
      "6 x 2 = 12\n",
      "6 x 3 = 18\n",
      "6 x 4 = 24\n",
      "6 x 5 = 30\n",
      "6 x 6 = 36\n",
      "6 x 7 = 42\n",
      "6 x 8 = 48\n",
      "6 x 9 = 54\n",
      "6 x 10 = 60\n"
     ]
    }
   ],
   "source": [
    "# Get user input\n",
    "number = int(input(\"\\nEnter a number between 1 and 10: \"))\n",
    "\n",
    "# Print multiplication table\n",
    "print(f\"\\nMultiplication table for {number}:\")\n",
    "for i in range(1, 11):\n",
    "    print(f\"{number} x {i} = {number * i}\")\n"
   ]
  },
  {
   "cell_type": "markdown",
   "id": "b01acdd0-e0dd-452c-9e53-d23c6df81469",
   "metadata": {},
   "source": [
    "## Q8: Powers of a Number"
   ]
  },
  {
   "cell_type": "code",
   "execution_count": 8,
   "id": "80fc8c1c-7946-4e87-ad4f-ba9669e4a7d9",
   "metadata": {},
   "outputs": [
    {
     "name": "stdin",
     "output_type": "stream",
     "text": [
      "\n",
      "Enter a number to calculate its powers:  7\n"
     ]
    },
    {
     "name": "stdout",
     "output_type": "stream",
     "text": [
      "\n",
      "Powers of 7:\n",
      "7^1 = 7\n",
      "7^2 = 49\n",
      "7^3 = 343\n",
      "7^4 = 2401\n",
      "7^5 = 16807\n",
      "7^6 = 117649\n",
      "7^7 = 823543\n",
      "7^8 = 5764801\n",
      "7^9 = 40353607\n",
      "7^10 = 282475249\n"
     ]
    }
   ],
   "source": [
    "# Get user input\n",
    "num = int(input(\"\\nEnter a number to calculate its powers: \"))\n",
    "\n",
    "# Calculate powers using while loop\n",
    "power = 1\n",
    "print(f\"\\nPowers of {num}:\")\n",
    "while power <= 10:\n",
    "    print(f\"{num}^{power} = {num ** power}\")\n",
    "    power += 1\n"
   ]
  },
  {
   "cell_type": "markdown",
   "id": "3f0b2904-6d36-4460-bcda-23f97f45a80b",
   "metadata": {},
   "source": [
    "## Q9: Countdown"
   ]
  },
  {
   "cell_type": "code",
   "execution_count": 10,
   "id": "f750fe12-e6dc-4920-bf54-f9a7c2fe3488",
   "metadata": {},
   "outputs": [
    {
     "name": "stdin",
     "output_type": "stream",
     "text": [
      "\n",
      "Enter a number to start the countdown:  31\n"
     ]
    },
    {
     "name": "stdout",
     "output_type": "stream",
     "text": [
      "\n",
      "Countdown:\n",
      "31\n",
      "30\n",
      "29\n",
      "28\n",
      "27\n",
      "26\n",
      "25\n",
      "24\n",
      "23\n",
      "22\n",
      "21\n",
      "20\n",
      "19\n",
      "18\n",
      "17\n",
      "16\n",
      "15\n",
      "14\n",
      "13\n",
      "12\n",
      "11\n",
      "10\n",
      "9\n",
      "8\n",
      "7\n",
      "6\n",
      "5\n",
      "4\n",
      "3\n",
      "2\n",
      "1\n",
      "0\n",
      "Countdown finished!\n"
     ]
    }
   ],
   "source": [
    "# Get user input\n",
    "countdown = int(input(\"\\nEnter a number to start the countdown: \"))\n",
    "\n",
    "# Perform countdown\n",
    "print(\"\\nCountdown:\")\n",
    "while countdown >= 0:\n",
    "    print(countdown)\n",
    "    countdown -= 1\n",
    "print(\"Countdown finished!\")\n"
   ]
  },
  {
   "cell_type": "markdown",
   "id": "a90071f9-3036-4c20-be9e-3f433fb72d64",
   "metadata": {},
   "source": [
    "## Q10: Star Triangle Pattern"
   ]
  },
  {
   "cell_type": "code",
   "execution_count": 11,
   "id": "0bd9b371-c8f1-4c8e-ba97-89d5e6324710",
   "metadata": {},
   "outputs": [
    {
     "name": "stdin",
     "output_type": "stream",
     "text": [
      "\n",
      "Enter the number of rows for the triangle:  9\n"
     ]
    },
    {
     "name": "stdout",
     "output_type": "stream",
     "text": [
      "\n",
      "Right-angled triangle pattern:\n",
      "* \n",
      "* * \n",
      "* * * \n",
      "* * * * \n",
      "* * * * * \n",
      "* * * * * * \n",
      "* * * * * * * \n",
      "* * * * * * * * \n",
      "* * * * * * * * * \n"
     ]
    }
   ],
   "source": [
    "# Get user input\n",
    "n = int(input(\"\\nEnter the number of rows for the triangle: \"))\n",
    "\n",
    "# Print the star triangle\n",
    "print(\"\\nRight-angled triangle pattern:\")\n",
    "for row in range(1, n + 1):\n",
    "    print(\"* \" * row)\n"
   ]
  },
  {
   "cell_type": "code",
   "execution_count": null,
   "id": "d682f49a-d50d-445a-8800-cb8f067df960",
   "metadata": {},
   "outputs": [],
   "source": []
  }
 ],
 "metadata": {
  "kernelspec": {
   "display_name": "Python 3 (ipykernel)",
   "language": "python",
   "name": "python3"
  },
  "language_info": {
   "codemirror_mode": {
    "name": "ipython",
    "version": 3
   },
   "file_extension": ".py",
   "mimetype": "text/x-python",
   "name": "python",
   "nbconvert_exporter": "python",
   "pygments_lexer": "ipython3",
   "version": "3.12.7"
  }
 },
 "nbformat": 4,
 "nbformat_minor": 5
}
