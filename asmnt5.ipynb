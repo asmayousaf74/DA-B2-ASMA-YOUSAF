{
 "cells": [
  {
   "cell_type": "markdown",
   "id": "dc95efbb-2d59-4e7a-8692-a4bb463d12e2",
   "metadata": {},
   "source": [
    "## Q1 Add Numbers"
   ]
  },
  {
   "cell_type": "code",
   "execution_count": 3,
   "id": "7608e492-4e75-4f64-b54e-20655f86313e",
   "metadata": {},
   "outputs": [
    {
     "name": "stdout",
     "output_type": "stream",
     "text": [
      "3\n"
     ]
    }
   ],
   "source": [
    "def count_vowels(input_string):\n",
    "    vowels = 'aeiouAEIOU'\n",
    "    return sum(1 for char in input_string if char in vowels)\n",
    "\n",
    "# Test\n",
    "print(count_vowels('Orange'))  # Output: 3\n"
   ]
  },
  {
   "cell_type": "markdown",
   "id": "459fb224-1431-4f60-a0c8-c9d4210d792e",
   "metadata": {},
   "source": [
    "##  Q2 count vowels"
   ]
  },
  {
   "cell_type": "raw",
   "id": "7420066a-7bcb-4573-9c2c-db7bac80e332",
   "metadata": {},
   "source": [
    "\n",
    "def add_numbers(num1, num2):\n",
    "    return num1 + num2\n",
    "\n",
    "# Test\n",
    "print(add_numbers(5, 3))  # Output: 8\n"
   ]
  },
  {
   "cell_type": "markdown",
   "id": "49109bb7-8eaf-4a3a-baae-d2527f2c9bf5",
   "metadata": {},
   "source": [
    "##  Q3 Currency Converter"
   ]
  },
  {
   "cell_type": "code",
   "execution_count": 5,
   "id": "06bd8396-a9dc-4929-abfc-98d33af2e3db",
   "metadata": {},
   "outputs": [
    {
     "name": "stdout",
     "output_type": "stream",
     "text": [
      "100 USD is worth 28000 PKR.\n"
     ]
    }
   ],
   "source": [
    "def currency_converter(amount, exchange_rate=280):\n",
    "    return f\"{amount} USD is worth {amount * exchange_rate} PKR.\"\n",
    "\n",
    "# Test\n",
    "print(currency_converter(100))  # Output: \"100 USD is worth 28000 PKR.\"\n"
   ]
  },
  {
   "cell_type": "markdown",
   "id": "a1825c7d-4c37-4676-8178-4bc90700aef2",
   "metadata": {},
   "source": [
    "## Q4 Display Student Info\n"
   ]
  },
  {
   "cell_type": "code",
   "execution_count": 6,
   "id": "31ef351d-4baf-4257-8d07-d3c80febb8cc",
   "metadata": {},
   "outputs": [
    {
     "name": "stdout",
     "output_type": "stream",
     "text": [
      "Name: Alice\n",
      "Age: 12\n",
      "Grade: 7th\n",
      "School: ABC School\n"
     ]
    }
   ],
   "source": [
    "def display_student_info(*, name, age, grade, school):\n",
    "    print(f\"Name: {name}\\nAge: {age}\\nGrade: {grade}\\nSchool: {school}\")\n",
    "\n",
    "# Test\n",
    "display_student_info(name=\"Alice\", age=12, grade=\"7th\", school=\"ABC School\")\n"
   ]
  },
  {
   "cell_type": "markdown",
   "id": "a726e4ed-46f4-4e5d-97b8-7649ded90cca",
   "metadata": {},
   "source": [
    "### Q5 Calculate Price\n",
    "\n"
   ]
  },
  {
   "cell_type": "code",
   "execution_count": 7,
   "id": "282b2b36-2737-41cb-bdba-f7fd36c65ef8",
   "metadata": {},
   "outputs": [
    {
     "name": "stdout",
     "output_type": "stream",
     "text": [
      "150\n"
     ]
    }
   ],
   "source": [
    "def calculate_price(price, quantity):\n",
    "    return price * quantity\n",
    "\n",
    "# Test\n",
    "print(calculate_price(50, 3))  # Output: 150\n"
   ]
  },
  {
   "cell_type": "markdown",
   "id": "1f9cc82f-9373-4b24-81ea-f3214b34501d",
   "metadata": {},
   "source": [
    "## Q6  Display Prices"
   ]
  },
  {
   "cell_type": "code",
   "execution_count": 8,
   "id": "e198f76c-e409-4027-b6f9-0bb7f5b1e6e2",
   "metadata": {},
   "outputs": [
    {
     "name": "stdout",
     "output_type": "stream",
     "text": [
      "Product: Laptop\n",
      "Amazon: $800\n",
      "eBay: $750\n",
      "Walmart: $780\n"
     ]
    }
   ],
   "source": [
    "def display_prices(product, **prices):\n",
    "    print(f\"Product: {product}\")\n",
    "    for store, price in prices.items():\n",
    "        print(f\"{store}: ${price}\")\n",
    "\n",
    "# Test\n",
    "display_prices(\"Laptop\", Amazon=800, eBay=750, Walmart=780)\n"
   ]
  },
  {
   "cell_type": "markdown",
   "id": "61755b3e-de09-4215-9aa4-12a887757e85",
   "metadata": {},
   "source": [
    "### Q7 Find Max"
   ]
  },
  {
   "cell_type": "code",
   "execution_count": 16,
   "id": "cd3f7730-41d6-42a4-ac40-c419d04f4541",
   "metadata": {},
   "outputs": [
    {
     "name": "stdout",
     "output_type": "stream",
     "text": [
      "40\n"
     ]
    }
   ],
   "source": [
    "def find_max(*args):\n",
    "    return max(args)\n",
    "\n",
    "# Test\n",
    "print(find_max(10, 20, 5, 40, 15))  # Output: 40\n"
   ]
  },
  {
   "cell_type": "markdown",
   "id": "0705d859-f6a7-401a-9478-5e3983cb9cec",
   "metadata": {},
   "source": [
    "## Q8  Display Info\n"
   ]
  },
  {
   "cell_type": "code",
   "execution_count": 10,
   "id": "c2fa7b39-0443-44d0-90ae-de54203d91ae",
   "metadata": {},
   "outputs": [
    {
     "name": "stdout",
     "output_type": "stream",
     "text": [
      "Name: Alice\n",
      "Age: 30\n",
      "Other Details:\n",
      "address: 123 Main St\n",
      "phone: 123-456-7890\n",
      "email: alice@example.com\n"
     ]
    }
   ],
   "source": [
    "def display_info(name, age, **details):\n",
    "    print(f\"Name: {name}\")\n",
    "    print(f\"Age: {age}\")\n",
    "    print(\"Other Details:\")\n",
    "    for key, value in details.items():\n",
    "        print(f\"{key}: {value}\")\n",
    "\n",
    "# Test\n",
    "display_info(\"Alice\", 30, address=\"123 Main St\", phone=\"123-456-7890\", email=\"alice@example.com\")\n"
   ]
  },
  {
   "cell_type": "markdown",
   "id": "9e1b2ee5-b8e6-496a-938c-b0ec11c2b86d",
   "metadata": {},
   "source": [
    " ## Q9 Calculate Rectangle"
   ]
  },
  {
   "cell_type": "code",
   "execution_count": 11,
   "id": "bb605450-c36a-47e0-89c6-d7a8845b2cbc",
   "metadata": {},
   "outputs": [
    {
     "name": "stdout",
     "output_type": "stream",
     "text": [
      "(15, 16)\n"
     ]
    }
   ],
   "source": [
    "def calculate_rectangle(length, width):\n",
    "    def calculate_area():\n",
    "        return length * width\n",
    "\n",
    "    def calculate_perimeter():\n",
    "        return 2 * (length + width)\n",
    "\n",
    "    return calculate_area(), calculate_perimeter()\n",
    "\n",
    "# Test\n",
    "print(calculate_rectangle(5, 3))  # Output: (15, 16)\n"
   ]
  },
  {
   "cell_type": "markdown",
   "id": "8bad133f-534e-49d9-98ad-9867ed400ce3",
   "metadata": {},
   "source": [
    "##  Q10  Product Operations "
   ]
  },
  {
   "cell_type": "code",
   "execution_count": 14,
   "id": "f0f82812-a4c7-4f04-bb23-84e2bfcbfb71",
   "metadata": {},
   "outputs": [
    {
     "name": "stdout",
     "output_type": "stream",
     "text": [
      "In-stock product names: ['Laptop', 'Headphones', 'Smartwatch', 'Keyboard']\n",
      "Discounted prices: [('Laptop', 1080.0), ('Headphones', 120.0), ('Smartwatch', 300), ('Keyboard', 85.0)]\n"
     ]
    }
   ],
   "source": [
    "products = [\n",
    "    {\"name\": \"Laptop\", \"price\": 1200, \"in_stock\": True, \"discount\": 0.1},\n",
    "    {\"name\": \"Smartphone\", \"price\": 800, \"in_stock\": False, \"discount\": 0.05},\n",
    "    {\"name\": \"Headphones\", \"price\": 150, \"in_stock\": True, \"discount\": 0.2},\n",
    "    {\"name\": \"Smartwatch\", \"price\": 300, \"in_stock\": True, \"discount\": 0},\n",
    "    {\"name\": \"Keyboard\", \"price\": 100, \"in_stock\": True, \"discount\": 0.15}\n",
    "]\n",
    "\n",
    "# In-stock product names\n",
    "in_stock_products = [product['name'] for product in products if product['in_stock']]\n",
    "\n",
    "# Discounted prices\n",
    "discounted_prices = [\n",
    "    (product['name'], product['price'] * (1 - product['discount']) if product['discount'] > 0 else product['price'])\n",
    "    for product in products if product['in_stock']\n",
    "]\n",
    "\n",
    "# Output\n",
    "print(f\"In-stock product names: {in_stock_products}\")\n",
    "print(f\"Discounted prices: {discounted_prices}\")\n"
   ]
  }
 ],
 "metadata": {
  "kernelspec": {
   "display_name": "Python 3 (ipykernel)",
   "language": "python",
   "name": "python3"
  },
  "language_info": {
   "codemirror_mode": {
    "name": "ipython",
    "version": 3
   },
   "file_extension": ".py",
   "mimetype": "text/x-python",
   "name": "python",
   "nbconvert_exporter": "python",
   "pygments_lexer": "ipython3",
   "version": "3.12.7"
  }
 },
 "nbformat": 4,
 "nbformat_minor": 5
}
