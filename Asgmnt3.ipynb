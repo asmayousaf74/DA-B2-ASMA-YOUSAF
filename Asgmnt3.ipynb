{
 "cells": [
  {
   "cell_type": "markdown",
   "id": "11941545-2ff3-44b8-884f-86ee5435d5c1",
   "metadata": {},
   "source": [
    "## Q:1 check loan eligibility(age, credit_score, income)"
   ]
  },
  {
   "cell_type": "code",
   "execution_count": 4,
   "id": "d5af2629-cd4b-4383-8884-1646391de9a0",
   "metadata": {},
   "outputs": [
    {
     "name": "stdin",
     "output_type": "stream",
     "text": [
      "Enter your age:  25\n",
      "Enter your credit score:  5400\n",
      "Enter your annual income:  250000\n"
     ]
    },
    {
     "name": "stdout",
     "output_type": "stream",
     "text": [
      "Eligible for loan\n"
     ]
    }
   ],
   "source": [
    "def check_loan_eligibility(age, credit_score, income):\n",
    "    if age >= 18:\n",
    "        if credit_score >= 650:\n",
    "            if income >= 30000:\n",
    "                return \"Eligible for loan\"\n",
    "            elif credit_score >= 700 and income >= 25000:\n",
    "                return \"Eligible for loan\"\n",
    "            else:\n",
    "                return \"Not eligible for loan\"\n",
    "        else:\n",
    "            return \"Not eligible for loan due to credit score\"\n",
    "    else:\n",
    "        return \"Not eligible for loan due to age\"\n",
    "\n",
    "# Example usage\n",
    "age = int(input(\"Enter your age: \"))\n",
    "credit_score = int(input(\"Enter your credit score: \"))\n",
    "income = float(input(\"Enter your annual income: \"))\n",
    "print(check_loan_eligibility(age, credit_score, income))"
   ]
  },
  {
   "cell_type": "markdown",
   "id": "15f0f009-ec30-4bad-b1f6-c1c0547675d1",
   "metadata": {},
   "source": [
    "## Q2: Check if a person is an adult and ask for experience\n"
   ]
  },
  {
   "cell_type": "code",
   "execution_count": 7,
   "id": "759691c9-fb18-4460-afe8-eaed691fdc9d",
   "metadata": {},
   "outputs": [
    {
     "name": "stdin",
     "output_type": "stream",
     "text": [
      "Enter your age:  65\n",
      "Enter your years of experience:  20\n"
     ]
    },
    {
     "name": "stdout",
     "output_type": "stream",
     "text": [
      "You have a lot of experience.\n"
     ]
    }
   ],
   "source": [
    "age = int(input(\"Enter your age: \"))\n",
    "\n",
    "if age < 18:\n",
    "    print(\"You are underage\")\n",
    "else:\n",
    "    experience = int(input(\"Enter your years of experience: \"))\n",
    "    \n",
    "    if experience >= 10:\n",
    "        print(\"You have a lot of experience.\")\n",
    "    elif 5 <= experience <= 9:\n",
    "        print(\"You have moderate experience.\")\n",
    "    elif 2 <= experience <= 4:\n",
    "        print(\"You are relatively new.\")\n",
    "    else:\n",
    "        print(\"You are just starting out.\")\n"
   ]
  },
  {
   "cell_type": "markdown",
   "id": "1be602a8-7b5a-43b0-b744-1d5dcbab7326",
   "metadata": {},
   "source": [
    "## Q3: Explore memory addresses, sizes, and data types"
   ]
  },
  {
   "cell_type": "code",
   "execution_count": 10,
   "id": "2def3466-4f68-458d-baef-eaf3db57f06b",
   "metadata": {},
   "outputs": [
    {
     "name": "stdout",
     "output_type": "stream",
     "text": [
      "Memory addresses: [140705327819480, 2444588583408, 2444588679984, 2444603082560, 2444603211456]\n",
      "Memory sizes: [28, 24, 46, 88, 184]\n",
      "Data type with least memory: <class 'float'>\n"
     ]
    }
   ],
   "source": [
    "import sys\n",
    "variables = [10, 3.14, \"Hello\", [1, 2, 3], {'a': 1}]\n",
    "addresses = []\n",
    "sizes = []\n",
    "\n",
    "# Find memory address and size\n",
    "for var in variables:\n",
    "    addresses.append(id(var))\n",
    "    sizes.append(sys.getsizeof(var))\n",
    "\n",
    "# Print memory address and size\n",
    "print(\"Memory addresses:\", addresses)\n",
    "print(\"Memory sizes:\", sizes)\n",
    "\n",
    "# Find the data type with the least memory size\n",
    "min_size_index = sizes.index(min(sizes))\n",
    "print(\"Data type with least memory:\", type(variables[min_size_index]))\n"
   ]
  },
  {
   "cell_type": "markdown",
   "id": "d2e07acf-5692-4af3-a161-8e91802ce4e1",
   "metadata": {},
   "source": [
    "## Q4: Validate email format"
   ]
  },
  {
   "cell_type": "code",
   "execution_count": 11,
   "id": "1e338d26-fb8a-4ac5-97c0-283ad611abef",
   "metadata": {},
   "outputs": [
    {
     "name": "stdin",
     "output_type": "stream",
     "text": [
      "Enter an email address:  asma.75@fmail.com\n"
     ]
    },
    {
     "name": "stdout",
     "output_type": "stream",
     "text": [
      "Email format is valid.\n"
     ]
    }
   ],
   "source": [
    "email = input(\"Enter an email address: \")\n",
    "\n",
    "if '@' in email and '.' in email:\n",
    "    print(\"Email format is valid.\")\n",
    "else:\n",
    "    print(\"Invalid email format.\")\n"
   ]
  },
  {
   "cell_type": "markdown",
   "id": "e2682c0c-e361-418c-895f-e960aaa6d7f6",
   "metadata": {},
   "source": [
    "## Q5: Check the data type of each element in a tuple"
   ]
  },
  {
   "cell_type": "code",
   "execution_count": 12,
   "id": "1782a504-0a0a-43fd-b85c-18a0445cfdca",
   "metadata": {},
   "outputs": [
    {
     "name": "stdout",
     "output_type": "stream",
     "text": [
      "Data types of tuple elements: [<class 'int'>, <class 'float'>, <class 'str'>, <class 'list'>, <class 'list'>]\n"
     ]
    }
   ],
   "source": [
    "tup = (11, 22.333, 'apple', [1, 2, 3], ['a', 'b'])\n",
    "data_types = [type(element) for element in tup]\n",
    "print(\"Data types of tuple elements:\", data_types)\n"
   ]
  },
  {
   "cell_type": "markdown",
   "id": "3a280f5d-3099-4b81-ac9f-c62d1c46ddcc",
   "metadata": {},
   "source": [
    "## Q6: Check if a username exists and verify if the user is admin"
   ]
  },
  {
   "cell_type": "code",
   "execution_count": 13,
   "id": "5ee9ede5-fc23-44a1-8ebb-f7b6d471c1a0",
   "metadata": {},
   "outputs": [
    {
     "name": "stdin",
     "output_type": "stream",
     "text": [
      "Enter your username:  asmay@7690\n"
     ]
    },
    {
     "name": "stdout",
     "output_type": "stream",
     "text": [
      "Username does not exist.\n"
     ]
    }
   ],
   "source": [
    "active_users = [(\"alice\", \"admin\"), (\"bob\", \"user\"), (\"charlie\", \"moderator\")]\n",
    "\n",
    "username = input(\"Enter your username: \")\n",
    "\n",
    "# Check if username exists\n",
    "user_exists = any(user[0] == username for user in active_users)\n",
    "\n",
    "if user_exists:\n",
    "    user_role = next(user[1] for user in active_users if user[0] == username)\n",
    "    if user_role == \"admin\":\n",
    "        print(\"You are the admin.\")\n",
    "    else:\n",
    "        print(f\"You are a {user_role}.\")\n",
    "else:\n",
    "    print(\"Username does not exist.\")\n"
   ]
  },
  {
   "cell_type": "markdown",
   "id": "3d2b8f32-b988-4ae6-a044-512ce27ef41d",
   "metadata": {},
   "source": [
    "## Q7: Check relations between people using identity operator"
   ]
  },
  {
   "cell_type": "code",
   "execution_count": 23,
   "id": "04412156-98bb-419e-9f54-3a90a4f57eac",
   "metadata": {},
   "outputs": [
    {
     "name": "stdout",
     "output_type": "stream",
     "text": [
      "Siblings\n"
     ]
    }
   ],
   "source": [
    "person1 = ('father_name', 'mother_name', 'district', 'family_number')\n",
    "person2 = person1\n",
    "person3 = ('father_name', 'mother_name', 'district', 'family_number')\n",
    "\n",
    "if person1 is person2:\n",
    "    print(\"Siblings\")\n",
    "if person1 is person3:\n",
    "    print(\"Cousin\")\n"
   ]
  },
  {
   "cell_type": "markdown",
   "id": "1860a6ad-561f-4cd2-a7bc-6bdb01fa5e52",
   "metadata": {},
   "source": [
    "## Q8: Store and display book details using a tuple"
   ]
  },
  {
   "cell_type": "code",
   "execution_count": 18,
   "id": "08142fd7-0145-4f6c-a36f-4cda1c844356",
   "metadata": {},
   "outputs": [
    {
     "name": "stdin",
     "output_type": "stream",
     "text": [
      "Enter the book's title:  lord of the rings\n",
      "Enter the author's name:  john ronald\n",
      "Enter the year of publication:  2013\n",
      "Enter the book's price:  5600\n"
     ]
    },
    {
     "name": "stdout",
     "output_type": "stream",
     "text": [
      "Book Information:\n",
      "Title: lord of the rings\n",
      "Author: john ronald\n",
      "Year of Publication: 2013\n",
      "Price: 5600.0\n"
     ]
    }
   ],
   "source": [
    "title = input(\"Enter the book's title: \")\n",
    "author = input(\"Enter the author's name: \")\n",
    "year = int(input(\"Enter the year of publication: \"))\n",
    "price = float(input(\"Enter the book's price: \"))\n",
    "\n",
    "book_info = (title, author, year, price)\n",
    "\n",
    "print(\"Book Information:\")\n",
    "print(\"Title:\", book_info[0])\n",
    "print(\"Author:\", book_info[1])\n",
    "print(\"Year of Publication:\", book_info[2])\n",
    "print(\"Price:\", book_info[3])\n"
   ]
  },
  {
   "cell_type": "markdown",
   "id": "56555669-5018-4129-85c4-e42df74a01ce",
   "metadata": {},
   "source": [
    "## Q9: Check if a subject is available"
   ]
  },
  {
   "cell_type": "code",
   "execution_count": 19,
   "id": "c9ba7f04-64cb-4633-bd11-1ff65ee5cf05",
   "metadata": {},
   "outputs": [
    {
     "name": "stdin",
     "output_type": "stream",
     "text": [
      "Enter the subject to check:  URDU\n"
     ]
    },
    {
     "name": "stdout",
     "output_type": "stream",
     "text": [
      "The subject URDU is not available.\n"
     ]
    }
   ],
   "source": [
    "subjects = [\"Math\", \"Science\", \"History\", \"English\"]\n",
    "subject = input(\"Enter the subject to check: \")\n",
    "\n",
    "if subject in subjects:\n",
    "    print(f\"The subject {subject} is available.\")\n",
    "else:\n",
    "    print(f\"The subject {subject} is not available.\")\n"
   ]
  },
  {
   "cell_type": "markdown",
   "id": "b099e9b0-7417-47ff-9e10-8b959e4e23fd",
   "metadata": {},
   "source": [
    "## Q10: Use tuple methods for index and count"
   ]
  },
  {
   "cell_type": "code",
   "execution_count": 20,
   "id": "001692e3-3351-4d4e-b6aa-f0c244f61e81",
   "metadata": {},
   "outputs": [
    {
     "name": "stdin",
     "output_type": "stream",
     "text": [
      "Enter a number to find its first occurrence index:  3\n",
      "Enter a number to count its occurrences:  4\n"
     ]
    },
    {
     "name": "stdout",
     "output_type": "stream",
     "text": [
      "First occurrence of 3 is at index 2\n",
      "4 appears 1 times in the tuple.\n"
     ]
    }
   ],
   "source": [
    "numbers = (1, 2, 3, 4, 5, 3, 2, 1, 3)\n",
    "\n",
    "num1 = int(input(\"Enter a number to find its first occurrence index: \"))\n",
    "num2 = int(input(\"Enter a number to count its occurrences: \"))\n",
    "\n",
    "if num1 in numbers:\n",
    "    print(f\"First occurrence of {num1} is at index {numbers.index(num1)}\")\n",
    "else:\n",
    "    print(f\"{num1} not found in the tuple.\")\n",
    "\n",
    "print(f\"{num2} appears {numbers.count(num2)} times in the tuple.\")\n"
   ]
  },
  {
   "cell_type": "markdown",
   "id": "03b6f246-cf28-4dd9-b57b-ee0980847f50",
   "metadata": {},
   "source": [
    "## Q11: Check temperature in Celsius"
   ]
  },
  {
   "cell_type": "code",
   "execution_count": 22,
   "id": "b13351e8-d41c-42ac-a4da-3e5f827e199b",
   "metadata": {},
   "outputs": [
    {
     "name": "stdin",
     "output_type": "stream",
     "text": [
      "Enter the current temperature in Celsius:  30\n"
     ]
    },
    {
     "name": "stdout",
     "output_type": "stream",
     "text": [
      "It's hot.\n"
     ]
    }
   ],
   "source": [
    "temperature = float(input(\"Enter the current temperature in Celsius: \"))\n",
    "\n",
    "if temperature <= 0:\n",
    "    print(\"It's freezing.\")\n",
    "elif 1 <= temperature <= 25:\n",
    "    print(\"The weather is normal.\")\n",
    "else:\n",
    "    print(\"It's hot.\")\n"
   ]
  },
  {
   "cell_type": "code",
   "execution_count": null,
   "id": "d13af0ae-8225-46df-8e38-284fb5927109",
   "metadata": {},
   "outputs": [],
   "source": []
  }
 ],
 "metadata": {
  "kernelspec": {
   "display_name": "Python 3 (ipykernel)",
   "language": "python",
   "name": "python3"
  },
  "language_info": {
   "codemirror_mode": {
    "name": "ipython",
    "version": 3
   },
   "file_extension": ".py",
   "mimetype": "text/x-python",
   "name": "python",
   "nbconvert_exporter": "python",
   "pygments_lexer": "ipython3",
   "version": "3.12.7"
  }
 },
 "nbformat": 4,
 "nbformat_minor": 5
}
